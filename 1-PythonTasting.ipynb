{
 "cells": [
  {
   "cell_type": "markdown",
   "id": "9b3c87bf",
   "metadata": {},
   "source": [
    "# Python語法"
   ]
  },
  {
   "cell_type": "markdown",
   "id": "35d8a935",
   "metadata": {},
   "source": [
    "## Hello World"
   ]
  },
  {
   "cell_type": "code",
   "execution_count": 1,
   "id": "f61983b4",
   "metadata": {},
   "outputs": [
    {
     "name": "stdout",
     "output_type": "stream",
     "text": [
      "Hello\n"
     ]
    }
   ],
   "source": [
    "print(\"Hello\")"
   ]
  },
  {
   "cell_type": "markdown",
   "id": "ef311cba",
   "metadata": {},
   "source": [
    "## 定義變數"
   ]
  },
  {
   "cell_type": "code",
   "execution_count": 4,
   "id": "bff6e71f",
   "metadata": {},
   "outputs": [],
   "source": [
    "i = 10"
   ]
  },
  {
   "cell_type": "code",
   "execution_count": 5,
   "id": "c564003f",
   "metadata": {},
   "outputs": [],
   "source": [
    "j = 20"
   ]
  },
  {
   "cell_type": "code",
   "execution_count": 6,
   "id": "8499ca99",
   "metadata": {},
   "outputs": [],
   "source": [
    "city = \"Hong Kong\""
   ]
  },
  {
   "cell_type": "code",
   "execution_count": 7,
   "id": "3d84a04d",
   "metadata": {},
   "outputs": [],
   "source": [
    "my_name = \"Sunny\""
   ]
  },
  {
   "cell_type": "markdown",
   "id": "3a0a1658",
   "metadata": {},
   "source": [
    "#### 重新定義`my_name`，改成你的名字\n",
    "在下面的輸入框輸入Python命令行"
   ]
  },
  {
   "cell_type": "code",
   "execution_count": null,
   "id": "ce20e10c",
   "metadata": {},
   "outputs": [],
   "source": []
  },
  {
   "cell_type": "markdown",
   "id": "50c6e86b",
   "metadata": {},
   "source": [
    "## 在畫面上顯示變數數值"
   ]
  },
  {
   "cell_type": "code",
   "execution_count": 8,
   "id": "a7ed0b25",
   "metadata": {},
   "outputs": [
    {
     "data": {
      "text/plain": [
       "10"
      ]
     },
     "execution_count": 8,
     "metadata": {},
     "output_type": "execute_result"
    }
   ],
   "source": [
    "i"
   ]
  },
  {
   "cell_type": "code",
   "execution_count": 9,
   "id": "193cd917",
   "metadata": {},
   "outputs": [
    {
     "data": {
      "text/plain": [
       "'Hong Kong'"
      ]
     },
     "execution_count": 9,
     "metadata": {},
     "output_type": "execute_result"
    }
   ],
   "source": [
    "city"
   ]
  },
  {
   "cell_type": "code",
   "execution_count": 10,
   "id": "edbd7961",
   "metadata": {},
   "outputs": [
    {
     "data": {
      "text/plain": [
       "'Sunny'"
      ]
     },
     "execution_count": 10,
     "metadata": {},
     "output_type": "execute_result"
    }
   ],
   "source": [
    "my_name"
   ]
  },
  {
   "cell_type": "code",
   "execution_count": 11,
   "id": "506ccf6d",
   "metadata": {},
   "outputs": [
    {
     "name": "stdout",
     "output_type": "stream",
     "text": [
      "10\n"
     ]
    }
   ],
   "source": [
    "print(i)"
   ]
  },
  {
   "cell_type": "code",
   "execution_count": 12,
   "id": "93b747f4",
   "metadata": {},
   "outputs": [
    {
     "name": "stdout",
     "output_type": "stream",
     "text": [
      "Hong Kong\n"
     ]
    }
   ],
   "source": [
    "print(city)"
   ]
  },
  {
   "cell_type": "code",
   "execution_count": 21,
   "id": "16e4297a",
   "metadata": {
    "scrolled": true
   },
   "outputs": [
    {
     "name": "stdout",
     "output_type": "stream",
     "text": [
      "I live inHong Kong\n"
     ]
    }
   ],
   "source": [
    "print(\"I live in\" + city)"
   ]
  },
  {
   "cell_type": "code",
   "execution_count": 20,
   "id": "80337cbd",
   "metadata": {
    "scrolled": true
   },
   "outputs": [
    {
     "name": "stdout",
     "output_type": "stream",
     "text": [
      "I live in Hong Kong\n"
     ]
    }
   ],
   "source": [
    "print(\"I live in \" + city)"
   ]
  },
  {
   "cell_type": "code",
   "execution_count": 19,
   "id": "fbffd5e6",
   "metadata": {},
   "outputs": [
    {
     "name": "stdout",
     "output_type": "stream",
     "text": [
      "I live in Hong Kong\n"
     ]
    }
   ],
   "source": [
    "print(\"I live in\", city)"
   ]
  },
  {
   "cell_type": "markdown",
   "id": "4272a14f",
   "metadata": {},
   "source": [
    "#### 列出你的名字: `my name is xxx`\n",
    "在下面的輸入框輸入Python命令行"
   ]
  },
  {
   "cell_type": "code",
   "execution_count": 13,
   "id": "20d36e4e",
   "metadata": {},
   "outputs": [
    {
     "name": "stdout",
     "output_type": "stream",
     "text": [
      "Sunny\n"
     ]
    }
   ],
   "source": []
  },
  {
   "cell_type": "markdown",
   "id": "eb0052ba",
   "metadata": {},
   "source": [
    "## 數學運算"
   ]
  },
  {
   "cell_type": "code",
   "execution_count": 14,
   "id": "b99056c2",
   "metadata": {},
   "outputs": [
    {
     "data": {
      "text/plain": [
       "30"
      ]
     },
     "execution_count": 14,
     "metadata": {},
     "output_type": "execute_result"
    }
   ],
   "source": [
    "i + j"
   ]
  },
  {
   "cell_type": "code",
   "execution_count": 15,
   "id": "844d0c49",
   "metadata": {},
   "outputs": [
    {
     "data": {
      "text/plain": [
       "10"
      ]
     },
     "execution_count": 15,
     "metadata": {},
     "output_type": "execute_result"
    }
   ],
   "source": [
    "j - i"
   ]
  },
  {
   "cell_type": "code",
   "execution_count": 16,
   "id": "7a2e601d",
   "metadata": {},
   "outputs": [
    {
     "data": {
      "text/plain": [
       "200"
      ]
     },
     "execution_count": 16,
     "metadata": {},
     "output_type": "execute_result"
    }
   ],
   "source": [
    "i * j"
   ]
  },
  {
   "cell_type": "code",
   "execution_count": 17,
   "id": "2398996c",
   "metadata": {},
   "outputs": [
    {
     "data": {
      "text/plain": [
       "0.5"
      ]
     },
     "execution_count": 17,
     "metadata": {},
     "output_type": "execute_result"
    }
   ],
   "source": [
    "i / j"
   ]
  },
  {
   "cell_type": "code",
   "execution_count": null,
   "id": "ebc39917",
   "metadata": {},
   "outputs": [],
   "source": []
  },
  {
   "cell_type": "markdown",
   "id": "55f849e4",
   "metadata": {},
   "source": [
    "## 比較運算及條件控制"
   ]
  },
  {
   "cell_type": "code",
   "execution_count": 23,
   "id": "de7d4341",
   "metadata": {},
   "outputs": [
    {
     "name": "stdout",
     "output_type": "stream",
     "text": [
      "i is a bigger number\n"
     ]
    }
   ],
   "source": [
    "i = 300\n",
    "j = 200\n",
    "if (i<j):\n",
    "    print(\"j is a bigger number\")\n",
    "else:\n",
    "    print(\"i is a bigger number\")"
   ]
  },
  {
   "cell_type": "code",
   "execution_count": null,
   "id": "da43cd6d",
   "metadata": {},
   "outputs": [],
   "source": []
  }
 ],
 "metadata": {
  "kernelspec": {
   "display_name": "Python 3",
   "language": "python",
   "name": "python3"
  },
  "language_info": {
   "codemirror_mode": {
    "name": "ipython",
    "version": 3
   },
   "file_extension": ".py",
   "mimetype": "text/x-python",
   "name": "python",
   "nbconvert_exporter": "python",
   "pygments_lexer": "ipython3",
   "version": "3.8.5"
  }
 },
 "nbformat": 4,
 "nbformat_minor": 5
}
