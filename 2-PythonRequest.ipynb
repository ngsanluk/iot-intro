{
 "cells": [
  {
   "cell_type": "markdown",
   "id": "47c2b219",
   "metadata": {},
   "source": [
    "# 以Python發出RESTful API請求"
   ]
  },
  {
   "cell_type": "markdown",
   "id": "dee65c80",
   "metadata": {},
   "source": [
    "## 導入 `requests` 庫"
   ]
  },
  {
   "cell_type": "code",
   "execution_count": 1,
   "id": "45810b08",
   "metadata": {},
   "outputs": [],
   "source": [
    "import requests"
   ]
  },
  {
   "cell_type": "markdown",
   "id": "cffa32bf",
   "metadata": {},
   "source": [
    "## 香港天文台實時天氣預報\n",
    "[API使用文件](https://www.hko.gov.hk/tc/weatherAPI/doc/files/HKO_Open_Data_API_Documentation_tc.pdf)\n"
   ]
  },
  {
   "cell_type": "markdown",
   "id": "71d5845d",
   "metadata": {},
   "source": [
    "## JSON文件\n",
    "\n",
    "例子-1：\n",
    "[本港地區天氣預報](https://data.weather.gov.hk/weatherAPI/opendata/weather.php?dataType=flw&lang=tc)\n",
    "\n",
    "例子-2：\n",
    "[九天天氣預報](https://data.weather.gov.hk/weatherAPI/opendata/weather.php?dataType=fnd&lang=tc)\n"
   ]
  },
  {
   "cell_type": "markdown",
   "id": "2db790e0",
   "metadata": {},
   "source": [
    "## 發出`get`請求"
   ]
  },
  {
   "cell_type": "code",
   "execution_count": 2,
   "id": "9864457e",
   "metadata": {},
   "outputs": [],
   "source": [
    "r = requests.get('https://data.weather.gov.hk/weatherAPI/opendata/weather.php?dataType=flw&lang=tc')"
   ]
  },
  {
   "cell_type": "code",
   "execution_count": 6,
   "id": "8fa25063",
   "metadata": {},
   "outputs": [
    {
     "data": {
      "text/plain": [
       "<Response [200]>"
      ]
     },
     "execution_count": 6,
     "metadata": {},
     "output_type": "execute_result"
    }
   ],
   "source": [
    "r"
   ]
  },
  {
   "cell_type": "code",
   "execution_count": 7,
   "id": "6c7f831f",
   "metadata": {},
   "outputs": [
    {
     "data": {
      "text/plain": [
       "'{\"generalSituation\":\"一股炎熱的偏南氣流正影響廣東沿岸。正午時分，大部分地區氣溫上升至30度左右。\",\"tcInfo\":\"\",\"fireDangerWarning\":\"\",\"forecastPeriod\":\"本港地區下午及今晚天氣預測\",\"forecastDesc\":\"下午天氣炎熱，部分時間有陽光。今晚大致多雲。吹和緩偏南風。\",\"outlook\":\"未來數天炎熱及部分時間有陽光，局部地區亦有幾陣驟雨。\",\"updateTime\":\"2021-05-10T14:45:00+08:00\"}'"
      ]
     },
     "execution_count": 7,
     "metadata": {},
     "output_type": "execute_result"
    }
   ],
   "source": [
    "r.text"
   ]
  },
  {
   "cell_type": "code",
   "execution_count": 6,
   "id": "eca8ac57",
   "metadata": {},
   "outputs": [
    {
     "data": {
      "text/plain": [
       "{'generalSituation': '廣東沿岸風勢微弱，天色大致良好。同時，中國東南沿岸的氣壓正在上升，預料一股清勁的偏東氣流會在今晚抵達廣東沿岸。',\n",
       " 'tcInfo': '',\n",
       " 'fireDangerWarning': '',\n",
       " 'forecastPeriod': '本港地區下午及今晚天氣預測',\n",
       " 'forecastDesc': '大致天晴，下午炎熱，部分地區有煙霞。今晚漸轉多雲及有一兩陣驟雨。吹微風，晚上轉吹和緩至清勁偏東風。',\n",
       " 'outlook': '明日短暫時間有陽光。隨後一兩日大致天晴及炎熱，但局部地區有驟雨。',\n",
       " 'updateTime': '2021-05-05T11:45:00+08:00'}"
      ]
     },
     "execution_count": 6,
     "metadata": {},
     "output_type": "execute_result"
    }
   ],
   "source": [
    "r.json()"
   ]
  },
  {
   "cell_type": "code",
   "execution_count": 8,
   "id": "fc755bf8",
   "metadata": {},
   "outputs": [
    {
     "data": {
      "text/plain": [
       "'廣東沿岸風勢微弱，天色大致良好。同時，中國東南沿岸的氣壓正在上升，預料一股清勁的偏東氣流會在今晚抵達廣東沿岸。'"
      ]
     },
     "execution_count": 8,
     "metadata": {},
     "output_type": "execute_result"
    }
   ],
   "source": [
    "r.json()[\"generalSituation\"]"
   ]
  },
  {
   "cell_type": "markdown",
   "id": "f088c0b1",
   "metadata": {},
   "source": [
    "# 發出智能課室API請求"
   ]
  },
  {
   "cell_type": "code",
   "execution_count": 8,
   "id": "fcc90e5b",
   "metadata": {},
   "outputs": [],
   "source": [
    "base_api_url = \"http://172.17.32.115:3000\""
   ]
  },
  {
   "cell_type": "code",
   "execution_count": 9,
   "id": "0cf3e89e",
   "metadata": {},
   "outputs": [
    {
     "data": {
      "text/plain": [
       "'http://172.17.32.115:3000'"
      ]
     },
     "execution_count": 9,
     "metadata": {},
     "output_type": "execute_result"
    }
   ],
   "source": [
    "base_api_url"
   ]
  },
  {
   "cell_type": "markdown",
   "id": "ed7debfa",
   "metadata": {},
   "source": [
    "### 簡單請求"
   ]
  },
  {
   "cell_type": "code",
   "execution_count": 10,
   "id": "1173beda",
   "metadata": {},
   "outputs": [],
   "source": [
    "hello_url = base_api_url+\"/hello\""
   ]
  },
  {
   "cell_type": "code",
   "execution_count": 11,
   "id": "11eca564",
   "metadata": {},
   "outputs": [],
   "source": [
    "hello = requests.get(hello_url)\n",
    "# or\n",
    "# hello = requests.get(base_api_url+\"/hello\")"
   ]
  },
  {
   "cell_type": "code",
   "execution_count": 12,
   "id": "6b71164a",
   "metadata": {
    "scrolled": true
   },
   "outputs": [
    {
     "data": {
      "text/plain": [
       "'{\"message\":\"Hello! 歡迎使用智能課室API\",\"timestamp\":\"Mon May 10 2021 15:41:59 GMT+0800 (Hong Kong Standard Time)\"}'"
      ]
     },
     "execution_count": 12,
     "metadata": {},
     "output_type": "execute_result"
    }
   ],
   "source": [
    "hello.text"
   ]
  },
  {
   "cell_type": "code",
   "execution_count": 13,
   "id": "48b3d93f",
   "metadata": {},
   "outputs": [
    {
     "data": {
      "text/plain": [
       "{'message': 'Hello! 歡迎使用智能課室API',\n",
       " 'timestamp': 'Mon May 10 2021 15:41:59 GMT+0800 (Hong Kong Standard Time)'}"
      ]
     },
     "execution_count": 13,
     "metadata": {},
     "output_type": "execute_result"
    }
   ],
   "source": [
    "hello.json()"
   ]
  },
  {
   "cell_type": "code",
   "execution_count": 14,
   "id": "519d55ab",
   "metadata": {},
   "outputs": [
    {
     "data": {
      "text/plain": [
       "'Hello! 歡迎使用智能課室API'"
      ]
     },
     "execution_count": 14,
     "metadata": {},
     "output_type": "execute_result"
    }
   ],
   "source": [
    "hello.json()[\"message\"]"
   ]
  },
  {
   "cell_type": "code",
   "execution_count": 79,
   "id": "23b1cc21",
   "metadata": {},
   "outputs": [
    {
     "data": {
      "text/plain": [
       "'Wed May 05 2021 16:17:37 GMT+0800 (Hong Kong Standard Time)'"
      ]
     },
     "execution_count": 79,
     "metadata": {},
     "output_type": "execute_result"
    }
   ],
   "source": [
    "hello.json()[\"timestamp\"]"
   ]
  },
  {
   "cell_type": "markdown",
   "id": "82e47d23",
   "metadata": {},
   "source": [
    "### 取得裝置清單\n",
    "\n",
    "需提供token密令：系統密令有5個字母，並設有時效\n",
    "\n",
    "由於沒有提供所需token，運行下列代碼時，將返回403狀態碼"
   ]
  },
  {
   "cell_type": "code",
   "execution_count": 15,
   "id": "a562f1c7",
   "metadata": {},
   "outputs": [],
   "source": [
    "devices_request = requests.get(base_api_url+\"/devices\")"
   ]
  },
  {
   "cell_type": "code",
   "execution_count": 16,
   "id": "f16edff5",
   "metadata": {},
   "outputs": [
    {
     "data": {
      "text/plain": [
       "403"
      ]
     },
     "execution_count": 16,
     "metadata": {},
     "output_type": "execute_result"
    }
   ],
   "source": [
    "devices_request.status_code"
   ]
  },
  {
   "cell_type": "markdown",
   "id": "72a29503",
   "metadata": {},
   "source": [
    "### 老師將提供有效token"
   ]
  },
  {
   "cell_type": "code",
   "execution_count": 79,
   "id": "9634ec7d",
   "metadata": {},
   "outputs": [],
   "source": [
    "token = \"vqHQM\"\n",
    "headers = {'token': token}"
   ]
  },
  {
   "cell_type": "markdown",
   "id": "125839b6",
   "metadata": {},
   "source": [
    "### header中定義了token，並於發出請求時，附上headers"
   ]
  },
  {
   "cell_type": "code",
   "execution_count": 18,
   "id": "4c61d771",
   "metadata": {},
   "outputs": [],
   "source": [
    "devices_request = requests.get(base_api_url+\"/devices\", headers=headers)"
   ]
  },
  {
   "cell_type": "code",
   "execution_count": 19,
   "id": "36a6bd7f",
   "metadata": {},
   "outputs": [
    {
     "data": {
      "text/plain": [
       "200"
      ]
     },
     "execution_count": 19,
     "metadata": {},
     "output_type": "execute_result"
    }
   ],
   "source": [
    "devices_request.status_code"
   ]
  },
  {
   "cell_type": "code",
   "execution_count": 119,
   "id": "11055497",
   "metadata": {},
   "outputs": [
    {
     "data": {
      "text/plain": [
       "{'code': 0,\n",
       " 'requestId': '5091.39736.16202037080700195',\n",
       " 'message': 'Success',\n",
       " 'msgDetails': None,\n",
       " 'result': {'totalCount': 7,\n",
       "  'data': [{'did': 'lumi1.54ef44ca129f',\n",
       "    'name': '网关 M1S',\n",
       "    'model': 'lumi.gateway.acn01',\n",
       "    'parentId': '',\n",
       "    'positionId': 'real2.826946421188505600',\n",
       "    'state': 1,\n",
       "    'registerTime': '1617202569227',\n",
       "    'firmwareVersion': '3.1.2_0013.0519',\n",
       "    'modelType': 1},\n",
       "   {'did': 'lumi1.54ef44cf428e',\n",
       "    'name': '网关 M2',\n",
       "    'model': 'lumi.gateway.iragl5',\n",
       "    'parentId': '',\n",
       "    'positionId': 'real2.826946421188505600',\n",
       "    'state': 1,\n",
       "    'registerTime': '1617202997111',\n",
       "    'firmwareVersion': '3.1.1_0006.0519',\n",
       "    'modelType': 1},\n",
       "   {'did': 'lumi.158d00067a9856',\n",
       "    'name': '温湿度传感器',\n",
       "    'model': 'lumi.weather.v1',\n",
       "    'parentId': 'lumi1.54ef44cf428e',\n",
       "    'positionId': 'real2.826946421188505600',\n",
       "    'state': 1,\n",
       "    'registerTime': '1617204159511',\n",
       "    'firmwareVersion': '0.0.0_0005',\n",
       "    'modelType': 3},\n",
       "   {'did': 'lumi.158d00067a0d8c',\n",
       "    'name': '动静贴',\n",
       "    'model': 'lumi.vibration.aq1',\n",
       "    'parentId': 'lumi1.54ef44cf428e',\n",
       "    'positionId': 'real2.826946421188505600',\n",
       "    'state': 1,\n",
       "    'registerTime': '1617204375381',\n",
       "    'firmwareVersion': '0.0.0_0008',\n",
       "    'modelType': 3},\n",
       "   {'did': 'lumi.158d00068bbeab',\n",
       "    'name': '门窗传感器',\n",
       "    'model': 'lumi.sensor_magnet.aq2',\n",
       "    'parentId': 'lumi1.54ef44cf428e',\n",
       "    'positionId': 'real2.826946421188505600',\n",
       "    'state': 1,\n",
       "    'registerTime': '1617204468403',\n",
       "    'firmwareVersion': '0.0.0_0003',\n",
       "    'modelType': 3},\n",
       "   {'did': 'lumi.158d0006b7c0e3',\n",
       "    'name': '人体传感器',\n",
       "    'model': 'lumi.sensor_motion.aq2',\n",
       "    'parentId': 'lumi1.54ef44cf428e',\n",
       "    'positionId': 'real2.826946421188505600',\n",
       "    'state': 1,\n",
       "    'registerTime': '1617204569182',\n",
       "    'firmwareVersion': '0.0.0_0005',\n",
       "    'modelType': 3},\n",
       "   {'did': 'lumi.158d00067264a2',\n",
       "    'name': '水浸传感器',\n",
       "    'model': 'lumi.sensor_wleak.aq1',\n",
       "    'parentId': 'lumi1.54ef44cf428e',\n",
       "    'positionId': 'real2.826946421188505600',\n",
       "    'state': 1,\n",
       "    'registerTime': '1619718713407',\n",
       "    'firmwareVersion': '0.0.0_0006',\n",
       "    'modelType': 3}]}}"
      ]
     },
     "execution_count": 119,
     "metadata": {},
     "output_type": "execute_result"
    }
   ],
   "source": [
    "devices_request.json()"
   ]
  },
  {
   "cell_type": "markdown",
   "id": "cd392487",
   "metadata": {},
   "source": [
    "### 查詢設備狀態"
   ]
  },
  {
   "cell_type": "code",
   "execution_count": 20,
   "id": "e8c89428",
   "metadata": {},
   "outputs": [],
   "source": [
    "did = \"lumi.158d0005882dbb\" # device id\n",
    "d_status = requests.get(base_api_url+\"/query/\"+did, headers=headers)"
   ]
  },
  {
   "cell_type": "code",
   "execution_count": 21,
   "id": "e5cc3fa4",
   "metadata": {},
   "outputs": [
    {
     "data": {
      "text/plain": [
       "{'code': 0,\n",
       " 'requestId': '5091.76152.16206326088286563',\n",
       " 'message': 'Success',\n",
       " 'msgDetails': None,\n",
       " 'result': [{'time': '1620632117718',\n",
       "   'attr': 'ctrl_ch0_status',\n",
       "   'value': '1',\n",
       "   'did': 'lumi.158d0005882dbb'},\n",
       "  {'time': '1620631091618',\n",
       "   'attr': 'switch_ch0_status',\n",
       "   'value': '1',\n",
       "   'did': 'lumi.158d0005882dbb'},\n",
       "  {'time': '1619597633320',\n",
       "   'attr': 'device_night_tip_light',\n",
       "   'value': '0',\n",
       "   'did': 'lumi.158d0005882dbb'},\n",
       "  {'time': '1620632299445',\n",
       "   'attr': 'device_lqi',\n",
       "   'value': '115',\n",
       "   'did': 'lumi.158d0005882dbb'}]}"
      ]
     },
     "execution_count": 21,
     "metadata": {},
     "output_type": "execute_result"
    }
   ],
   "source": [
    "d_status.json()"
   ]
  },
  {
   "cell_type": "code",
   "execution_count": 24,
   "id": "cd1ce100",
   "metadata": {},
   "outputs": [],
   "source": [
    "d_status = requests.get(base_api_url+\"/query/\"+did+\"?attr=argb_value\", headers=headers)"
   ]
  },
  {
   "cell_type": "code",
   "execution_count": 25,
   "id": "d4c8e9c6",
   "metadata": {},
   "outputs": [
    {
     "data": {
      "text/plain": [
       "{'code': 0,\n",
       " 'requestId': '5091.76510.16206326871461303',\n",
       " 'message': 'Success',\n",
       " 'msgDetails': None,\n",
       " 'result': [{'time': '1620632117718',\n",
       "   'attr': 'ctrl_ch0_status',\n",
       "   'value': '1',\n",
       "   'did': 'lumi.158d0005882dbb'},\n",
       "  {'time': '1620631091618',\n",
       "   'attr': 'switch_ch0_status',\n",
       "   'value': '1',\n",
       "   'did': 'lumi.158d0005882dbb'},\n",
       "  {'time': '1619597633320',\n",
       "   'attr': 'device_night_tip_light',\n",
       "   'value': '0',\n",
       "   'did': 'lumi.158d0005882dbb'},\n",
       "  {'time': '1620632677925',\n",
       "   'attr': 'device_lqi',\n",
       "   'value': '116',\n",
       "   'did': 'lumi.158d0005882dbb'}]}"
      ]
     },
     "execution_count": 25,
     "metadata": {},
     "output_type": "execute_result"
    }
   ],
   "source": [
    "d_status.json()"
   ]
  },
  {
   "cell_type": "code",
   "execution_count": 128,
   "id": "db1b757f",
   "metadata": {},
   "outputs": [
    {
     "data": {
      "text/plain": [
       "{'time': '1620138020820',\n",
       " 'attr': 'argb_value',\n",
       " 'value': '167837660',\n",
       " 'did': 'lumi1.54ef44ca129f'}"
      ]
     },
     "execution_count": 128,
     "metadata": {},
     "output_type": "execute_result"
    }
   ],
   "source": [
    "d_status.json()[\"result\"][0]"
   ]
  },
  {
   "cell_type": "code",
   "execution_count": 68,
   "id": "21d5ad33",
   "metadata": {},
   "outputs": [
    {
     "data": {
      "text/plain": [
       "'0'"
      ]
     },
     "execution_count": 68,
     "metadata": {},
     "output_type": "execute_result"
    }
   ],
   "source": [
    "d_status.json()[\"result\"][0][\"value\"]"
   ]
  },
  {
   "cell_type": "markdown",
   "id": "6a702e58",
   "metadata": {},
   "source": [
    "### 改變設備狀態"
   ]
  },
  {
   "cell_type": "markdown",
   "id": "98ea0dec",
   "metadata": {},
   "source": [
    "#### 關燈"
   ]
  },
  {
   "cell_type": "code",
   "execution_count": 80,
   "id": "428fa5d0",
   "metadata": {
    "scrolled": true
   },
   "outputs": [
    {
     "name": "stdout",
     "output_type": "stream",
     "text": [
      "http://172.17.32.115:3000/update/lumi.158d0005882dbb?ctrl_ch0_status=0\n"
     ]
    },
    {
     "data": {
      "text/plain": [
       "<Response [200]>"
      ]
     },
     "execution_count": 80,
     "metadata": {},
     "output_type": "execute_result"
    }
   ],
   "source": [
    "url_off = base_api_url+\"/update/\"+did+\"?ctrl_ch0_status=0\"\n",
    "print(url_off)\n",
    "requests.get(url_off, headers=headers)"
   ]
  },
  {
   "cell_type": "markdown",
   "id": "8bb710e5",
   "metadata": {},
   "source": [
    "#### 開燈"
   ]
  },
  {
   "cell_type": "code",
   "execution_count": 81,
   "id": "dfe87609",
   "metadata": {},
   "outputs": [
    {
     "name": "stdout",
     "output_type": "stream",
     "text": [
      "http://172.17.32.115:3000/update/lumi.158d0005882dbb?ctrl_ch0_status=1\n"
     ]
    },
    {
     "data": {
      "text/plain": [
       "<Response [200]>"
      ]
     },
     "execution_count": 81,
     "metadata": {},
     "output_type": "execute_result"
    }
   ],
   "source": [
    "url_on = base_api_url+\"/update/\"+did+\"?ctrl_ch0_status=1\"\n",
    "print(url_on)\n",
    "requests.get(url_on, headers=headers)"
   ]
  },
  {
   "cell_type": "markdown",
   "id": "7a9c582b",
   "metadata": {},
   "source": [
    "#### 分別定義參數的值，方便程式改動"
   ]
  },
  {
   "cell_type": "code",
   "execution_count": 46,
   "id": "998323e2",
   "metadata": {},
   "outputs": [],
   "source": [
    "did = \"lumi.158d0005882dbb\""
   ]
  },
  {
   "cell_type": "code",
   "execution_count": 30,
   "id": "e1fcba70",
   "metadata": {},
   "outputs": [],
   "source": [
    "d_update = requests.get(base_api_url+\"/update/\"+did+\"?ctrl_ch0_status=1\", headers=headers)"
   ]
  },
  {
   "cell_type": "code",
   "execution_count": 161,
   "id": "5aaed5bc",
   "metadata": {},
   "outputs": [],
   "source": [
    "d_update = requests.get(base_api_url+\"/update/\"+did+\"?argb_value=65280\", headers=headers)"
   ]
  },
  {
   "cell_type": "code",
   "execution_count": 31,
   "id": "efb11949",
   "metadata": {},
   "outputs": [
    {
     "data": {
      "text/plain": [
       "200"
      ]
     },
     "execution_count": 31,
     "metadata": {},
     "output_type": "execute_result"
    }
   ],
   "source": [
    "d_update.status_code"
   ]
  },
  {
   "cell_type": "code",
   "execution_count": 32,
   "id": "c94a583f",
   "metadata": {},
   "outputs": [
    {
     "data": {
      "text/plain": [
       "{'code': 0,\n",
       " 'requestId': '5091.76503.16206327825121241',\n",
       " 'message': 'Success',\n",
       " 'msgDetails': None,\n",
       " 'result': ''}"
      ]
     },
     "execution_count": 32,
     "metadata": {},
     "output_type": "execute_result"
    }
   ],
   "source": [
    "d_update.json()"
   ]
  },
  {
   "cell_type": "markdown",
   "id": "5937b6a7",
   "metadata": {},
   "source": [
    "# 專案\n",
    "如果感應器感應到光度不足，將自動打開課室的燈"
   ]
  },
  {
   "cell_type": "markdown",
   "id": "6362e7a3",
   "metadata": {},
   "source": [
    "#### 取得光度讀數"
   ]
  },
  {
   "cell_type": "code",
   "execution_count": null,
   "id": "0122f18e",
   "metadata": {},
   "outputs": [],
   "source": []
  },
  {
   "cell_type": "code",
   "execution_count": 47,
   "id": "d3694192",
   "metadata": {},
   "outputs": [],
   "source": [
    "did = \"lumi.158d000693b17a\" # device id\n",
    "light_status = requests.get(base_api_url+\"/query/\"+did, headers=headers)"
   ]
  },
  {
   "cell_type": "code",
   "execution_count": 54,
   "id": "cd081114",
   "metadata": {},
   "outputs": [
    {
     "data": {
      "text/plain": [
       "{'code': 0,\n",
       " 'requestId': '5091.76495.16206337961422583',\n",
       " 'message': 'Success',\n",
       " 'msgDetails': None,\n",
       " 'result': [{'time': '1619598116590',\n",
       "   'attr': 'magnet_status',\n",
       "   'value': '1',\n",
       "   'did': 'lumi.158d000693b17a'},\n",
       "  {'time': '1620585555752',\n",
       "   'attr': 'device_voltage',\n",
       "   'value': '2985',\n",
       "   'did': 'lumi.158d000693b17a'},\n",
       "  {'time': '1620633741838',\n",
       "   'attr': 'device_lqi',\n",
       "   'value': '12',\n",
       "   'did': 'lumi.158d000693b17a'}]}"
      ]
     },
     "execution_count": 54,
     "metadata": {},
     "output_type": "execute_result"
    }
   ],
   "source": [
    "light_status.json()"
   ]
  },
  {
   "cell_type": "code",
   "execution_count": 55,
   "id": "0abbc6d7",
   "metadata": {
    "scrolled": true
   },
   "outputs": [
    {
     "data": {
      "text/plain": [
       "[{'time': '1619598116590',\n",
       "  'attr': 'magnet_status',\n",
       "  'value': '1',\n",
       "  'did': 'lumi.158d000693b17a'},\n",
       " {'time': '1620585555752',\n",
       "  'attr': 'device_voltage',\n",
       "  'value': '2985',\n",
       "  'did': 'lumi.158d000693b17a'},\n",
       " {'time': '1620633741838',\n",
       "  'attr': 'device_lqi',\n",
       "  'value': '12',\n",
       "  'did': 'lumi.158d000693b17a'}]"
      ]
     },
     "execution_count": 55,
     "metadata": {},
     "output_type": "execute_result"
    }
   ],
   "source": [
    "light_status.json()[\"result\"]"
   ]
  },
  {
   "cell_type": "code",
   "execution_count": 56,
   "id": "2efea826",
   "metadata": {},
   "outputs": [
    {
     "data": {
      "text/plain": [
       "{'time': '1619598116590',\n",
       " 'attr': 'magnet_status',\n",
       " 'value': '1',\n",
       " 'did': 'lumi.158d000693b17a'}"
      ]
     },
     "execution_count": 56,
     "metadata": {},
     "output_type": "execute_result"
    }
   ],
   "source": [
    "light_status.json()[\"result\"][0]"
   ]
  },
  {
   "cell_type": "code",
   "execution_count": 59,
   "id": "96e1016b",
   "metadata": {},
   "outputs": [],
   "source": [
    "light_status.json()[\"result\"][0][\"value\"]"
   ]
  },
  {
   "cell_type": "code",
   "execution_count": 60,
   "id": "260d2219",
   "metadata": {},
   "outputs": [],
   "source": [
    "open = light_status.json()[\"result\"][0][\"value\"]"
   ]
  },
  {
   "cell_type": "markdown",
   "id": "2fd042ca",
   "metadata": {},
   "source": [
    "#### 改變燈的狀態"
   ]
  },
  {
   "cell_type": "code",
   "execution_count": 72,
   "id": "ddd6b282",
   "metadata": {},
   "outputs": [],
   "source": [
    "did = \"lumi.158d0005882dbb\"\n",
    "if open==\"1\":\n",
    "    change_light_url = base_api_url+\"/update/\"+did+\"?ctrl_ch0_status=1\"\n",
    "    change_light = requests.get(change_light_url, headers=headers)\n",
    "else:\n",
    "    change_light_url = base_api_url+\"/update/\"+did+\"?ctrl_ch0_status=0\"\n",
    "    change_light = requests.get(change_light_url, headers=headers)"
   ]
  },
  {
   "cell_type": "code",
   "execution_count": null,
   "id": "f1494e55",
   "metadata": {},
   "outputs": [],
   "source": []
  }
 ],
 "metadata": {
  "kernelspec": {
   "display_name": "Python 3",
   "language": "python",
   "name": "python3"
  },
  "language_info": {
   "codemirror_mode": {
    "name": "ipython",
    "version": 3
   },
   "file_extension": ".py",
   "mimetype": "text/x-python",
   "name": "python",
   "nbconvert_exporter": "python",
   "pygments_lexer": "ipython3",
   "version": "3.8.5"
  }
 },
 "nbformat": 4,
 "nbformat_minor": 5
}
